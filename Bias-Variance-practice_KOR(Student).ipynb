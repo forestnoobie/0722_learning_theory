{
 "cells": [
  {
   "cell_type": "markdown",
   "metadata": {},
   "source": [
    "# Bias Variance Analysis \n",
    "* 본 실습 내용\n",
    "1. Polynomial Regression 모델 만들기\n",
    "2. Bias and Variance Trade off 관계 이해\n"
   ]
  },
  {
   "cell_type": "markdown",
   "metadata": {},
   "source": [
    "## Package Import\n",
    "* 아래 셀은 필요한 기능을 할 수 있는 함수들 (Pacakge)를 불러오는 과정입니다\n",
    "---\n",
    "패키지 설명\n",
    "* random : 난수 생성 \n",
    "* numpy : 행렬 연산\n",
    "* matplotlib.pyplot : 그래프 그리기\n",
    "* collections : 자료형\n",
    "* sklearn : 머신러닝 모델 "
   ]
  },
  {
   "cell_type": "code",
   "execution_count": 12,
   "metadata": {},
   "outputs": [],
   "source": [
    "# Loading Packages\n",
    "import random\n",
    "import numpy as np\n",
    "import matplotlib.pyplot as plt\n",
    "from collections import defaultdict\n",
    "from sklearn.preprocessing import PolynomialFeatures\n",
    "from sklearn.linear_model import LinearRegression\n",
    "from sklearn.pipeline import Pipeline\n",
    "from sklearn.metrics import mean_squared_error"
   ]
  },
  {
   "cell_type": "markdown",
   "metadata": {},
   "source": [
    "## Polynomial regression (다항 회귀)\n",
    "* Linear Regerssion (선형회귀)의 연장선인 Polynomial Regression (다항 회귀) 모델 생성\n",
    "* Polynomial Regression 모델로 (degree=2) 원래 함수 (True distribution) 추정\n",
    "---\n",
    "기존에 숨겨져 있는, 알려지지 않는 함수가 있을 떄 Polynomial regression을 통해 얼마나 근사시킬 수 있을지 확인해봅시다. <br>\n",
    "다음과 같은 순서로 진행됩니다. <br>\n",
    "1. 예측할 함수 생성\n",
    "2. Polynomial Transform\n",
    "3. Polynomial regression model 만들기\n"
   ]
  },
  {
   "cell_type": "markdown",
   "metadata": {},
   "source": [
    "### 예측할 함수 생성 (degree=3)\n",
    "* x_ex와 y_ex 변수를 통해 함수 생성\n",
    "* np.arange(p) 는 주어진 p 값까지로 이루어진 numpy 행렬을 만들라는 것\n",
    "* plt.plot(x,y) : x 와 y "
   ]
  },
  {
   "cell_type": "code",
   "execution_count": 13,
   "metadata": {},
   "outputs": [],
   "source": [
    "# Making polynomial regression model\n",
    "X_ex = np.arange(5) \n",
    "Y_ex =  3 - 2 * X_ex + X_ex ** 2 - X_ex ** 3"
   ]
  },
  {
   "cell_type": "code",
   "execution_count": 14,
   "metadata": {},
   "outputs": [
    {
     "data": {
      "text/plain": [
       "[<matplotlib.lines.Line2D at 0x7f25350406a0>]"
      ]
     },
     "execution_count": 14,
     "metadata": {},
     "output_type": "execute_result"
    },
    {
     "data": {
      "image/png": "[encoded data removed]",
      "text/plain": [
       "<Figure size 432x288 with 1 Axes>"
      ]
     },
     "metadata": {
      "needs_background": "light"
     },
     "output_type": "display_data"
    }
   ],
   "source": [
    "plt.plot(X_ex,Y_ex)"
   ]
  },
  {
   "cell_type": "code",
   "execution_count": 15,
   "metadata": {},
   "outputs": [
    {
     "data": {
      "text/plain": [
       "array([0, 1, 2, 3, 4])"
      ]
     },
     "execution_count": 15,
     "metadata": {},
     "output_type": "execute_result"
    }
   ],
   "source": [
    "X_ex"
   ]
  },
  {
   "cell_type": "markdown",
   "metadata": {},
   "source": [
    "#### Practice 1. 다항 함수 만들기\n",
    "1. 정의역 x_temp : 범위가 [0,1,2,3,4,5,6,7,8] 까지의 행렬을 만들기\n",
    "2. 치역 y_temp = 10 * X_temp**3 + 7 * X_temp -10 만들기\n",
    "3. Ploting 해보기"
   ]
  },
  {
   "cell_type": "code",
   "execution_count": 16,
   "metadata": {
    "collapsed": true,
    "jupyter": {
     "outputs_hidden": true
    }
   },
   "outputs": [
    {
     "ename": "SyntaxError",
     "evalue": "invalid syntax (<ipython-input-16-b946037042b6>, line 1)",
     "output_type": "error",
     "traceback": [
      "\u001b[0;36m  File \u001b[0;32m\"<ipython-input-16-b946037042b6>\"\u001b[0;36m, line \u001b[0;32m1\u001b[0m\n\u001b[0;31m    X_temp = np.arange(??)\u001b[0m\n\u001b[0m                       ^\u001b[0m\n\u001b[0;31mSyntaxError\u001b[0m\u001b[0;31m:\u001b[0m invalid syntax\n"
     ]
    }
   ],
   "source": [
    "X_temp = np.arange(??)\n",
    "Y_temp = ??*X_temp**?? + ??*X_temp - ??"
   ]
  },
  {
   "cell_type": "code",
   "execution_count": null,
   "metadata": {},
   "outputs": [],
   "source": [
    "plt.plot(X_temp,Y_temp)"
   ]
  },
  {
   "cell_type": "markdown",
   "metadata": {},
   "source": [
    "### Polynomial Transform : 일차항을  차수 d 차 항들로 변환\n",
    "* PolynomialFeatures(degree=d) : input 을 차수가 d 인 다항 features로 바꿔준다\n",
    "* poly.fit_transform(X[:, np.newaxis]) : poly 라는 instnace에, X_ex 데이터를 input으로 넣는다. np.newaxis (차원을 추가)\n",
    "* ex ) degree =3 , input : x -> output : c(상수), x , x^2 , x^3 "
   ]
  },
  {
   "cell_type": "code",
   "execution_count": null,
   "metadata": {},
   "outputs": [],
   "source": [
    "poly = PolynomialFeatures(degree=2)\n",
    "X_ex_trans = poly.fit_transform(X_ex[:, np.newaxis])\n",
    "\n",
    "print(\"Input\")\n",
    "print(X_ex)\n",
    "print(\"Output of Polynomial Features\")\n",
    "print(X_ex_trans)\n",
    "for row in range(X_ex_trans.shape[0]):\n",
    "    print(\"constant : {}, x1 : {}, x1**2 : {}\".format(X_ex_trans[row,0],X_ex_trans[row,1], X_ex_trans[row,2] ))"
   ]
  },
  {
   "cell_type": "code",
   "execution_count": null,
   "metadata": {},
   "outputs": [],
   "source": [
    "print(\"X_ex shape : {} , X_ex[:,np.newaxis] shape : {}\".format(X_ex.shape, X_ex[:,np.newaxis].shape))"
   ]
  },
  {
   "cell_type": "markdown",
   "metadata": {},
   "source": [
    "#### Practice 2. Polynomial Features 만들기\n",
    "1. degree = 3 인 Polynomial Feature 를 poly_practice로 선언해보세요\n",
    "2. input X_ex를 1에서 선언한 poly_practice를 이용하여 변환해 보세요\n",
    "3. 변환 결과를 출력해보세요"
   ]
  },
  {
   "cell_type": "code",
   "execution_count": null,
   "metadata": {},
   "outputs": [],
   "source": [
    "poly_practice = PolynomialFeatures(degree=?)\n",
    "X_ex_trans = poly_practice.fit_transform(X_ex[:, ??])\n",
    "\n",
    "print(\"Input\")\n",
    "print(X_ex)\n",
    "print(\"Output of Polynomial Features\")\n",
    "print(X_ex_trans)\n",
    "for row in range(??):\n",
    "    print(\"constant : {}, x1 : {}, x1**2 : {}, x1**3 : {}\".format(X_ex_trans[row,0],X_ex_trans[row,1], X_ex_trans[row,2], X_ex_trans[row,3] ))"
   ]
  },
  {
   "cell_type": "markdown",
   "metadata": {},
   "source": [
    "### Polynomial Regression : Polynomial Transfrom + Linear regression\n",
    "* Polynomial regression을 통해 input x 와 y를 학습\n",
    "---\n",
    "* Pipeline : sklearn에서 제공하는 함수들을 엮어서 하나의 함수로 변환\n",
    "* model.fit(X,Y) : input X와 Y 를 통해 model을 학습한다\n",
    "* model.named_steps['linear'].coef_ : linear 이름의 함수의 계수 (coefficent)를 가져온다\n",
    "* plt.scatter(x,y) : x, y 좌표를 찍은 산포도를(Scatter plot) 생성한다\n",
    "* plt.lengend() : 범례 추가"
   ]
  },
  {
   "cell_type": "code",
   "execution_count": null,
   "metadata": {},
   "outputs": [],
   "source": [
    "model = Pipeline([('poly', PolynomialFeatures(degree=2)),\n",
    "                  ('linear', LinearRegression(fit_intercept=False))])\n",
    "model.fit(X_ex[:, np.newaxis], Y_ex)\n",
    "coefs = model.named_steps['linear'].coef_\n",
    "print(\"Final Equation : y = {:.2f} + {:.2f}*x1 + {:.2f}*(x1**2)\".format(\n",
    "    coefs[0],coefs[1],coefs[2]\n",
    "))\n",
    "print(\"Original Equation y =  3 - 2 * x1 + (x1 ** 2) - (x1**3)\")"
   ]
  },
  {
   "cell_type": "code",
   "execution_count": null,
   "metadata": {},
   "outputs": [],
   "source": [
    "Y_ex_pred = model.predict(X_ex[:, np.newaxis])\n",
    "plt.scatter(X_ex,Y_ex_pred,label='Predicted')\n",
    "plt.plot(X_ex,Y_ex,label='Ground Truth',color='orange')\n",
    "plt.legend()"
   ]
  },
  {
   "cell_type": "markdown",
   "metadata": {},
   "source": [
    "#### Practice 3. Polynomial Regression 만들기 \n",
    "1. degree = 3 인 Polynomial Regression 를 model_practice로 선언해보세요\n",
    "2. X_ex, Y_ex input으로 model_practice을 학습해보세요\n",
    "3. model_practice 의 계수를 출력해보세요 (상수포함 4개)\n",
    "4. Ground Truth와 Predicted 값을 그래프를 그려보세요"
   ]
  },
  {
   "cell_type": "code",
   "execution_count": null,
   "metadata": {},
   "outputs": [],
   "source": [
    "model_practice = Pipeline([('poly', PolynomialFeatures(degree=??)),\n",
    "                  ('linear', LinearRegression(fit_intercept=False))])\n",
    "model_practice.fit(??, ??)\n",
    "coefs = ??\n",
    "print(\"Final Equation : y = {:.2f} + {:.2f}*x1 + {:.2f}*(x1**2) + {:.2f}*(x1**3)\".format(\n",
    "    coefs[0],coefs[1],coefs[2], coefs[3]\n",
    "))\n",
    "print(\"Original Equation y =  3 - 2 * x1 + (x1 ** 2) - (x1**3)\")"
   ]
  },
  {
   "cell_type": "markdown",
   "metadata": {},
   "source": [
    "## Polynomial Regression 을 이용하여 Sine graph 예측하기\n",
    "* Polynomial 모델을 이용하여 다항 함수가 아닌 sine 함수를 근사해보도록 합시다\n",
    "1. 먼저 sine 함수 식을 통해서 Synthetic 데이터를 생성합니다\n",
    "2. Synthetic 데이터에 noise를 일부 추가하고, Train/Test set으로 나눕니다. \n",
    "3. Train set을 이용하여 모델을 학습하고 Test set을 이용하여 모델의 성능을 평가합니다\n",
    "4. Regression 문제의 성능 지표인 Mean Squared loss와 Bias , Variance를 측정해봅니다\n"
   ]
  },
  {
   "cell_type": "code",
   "execution_count": null,
   "metadata": {},
   "outputs": [],
   "source": [
    "import random\n",
    "import numpy as np\n",
    "import matplotlib.pyplot as plt\n",
    "from sklearn.preprocessing import PolynomialFeatures\n",
    "from sklearn.linear_model import LinearRegression\n",
    "from sklearn.pipeline import Pipeline\n",
    "from sklearn.metrics import mean_squared_error\n",
    "import numpy as np\n",
    "import matplotlib.pyplot as plt\n",
    "import matplotlib\n",
    "import random"
   ]
  },
  {
   "cell_type": "code",
   "execution_count": null,
   "metadata": {},
   "outputs": [],
   "source": [
    "np.random.seed(10)\n",
    "random.seed(10)\n",
    "\n",
    "def get_y_true(x): # 실제 sin graph\n",
    "    y = np.sin(x)\n",
    "    return y\n",
    "\n",
    "def get_y_noise(x): # Sin + Random Noise\n",
    "    y = get_y_true(x) + np.random.uniform(-0.4, 0.4, len(x))\n",
    "    return y\n",
    "\n",
    "def get_sample(sample_ratio, x, y): # x, y 에서 sample ratio 만큼 추출\n",
    "    m = len(x)\n",
    "    m_new = int(np.round(sample_ratio*m))\n",
    "    ind = random.sample(range(m), m_new)\n",
    "    ind = np.sort(ind)\n",
    "    x_sample = x[ind]\n",
    "    y_sample = y[ind]\n",
    "    y_true_sample = get_y_true(x_sample)\n",
    "    return x_sample, y_sample, y_true_sample"
   ]
  },
  {
   "cell_type": "markdown",
   "metadata": {},
   "source": [
    "### Sine Graph Data 만들기\n",
    "* np.linspace(a,b,c) : 범위 a ~ b 만큼 구간을 c 개 나누기"
   ]
  },
  {
   "cell_type": "code",
   "execution_count": null,
   "metadata": {},
   "outputs": [],
   "source": [
    "random.seed(10)\n",
    "x_num = 200\n",
    "x_space = np.linspace(0,np.pi*4,x_num) # divide the space 0 to 10 in 100 pieces!\n",
    "y = get_y_true(x_space) # sine function\n",
    "plt.scatter(x_space,y) # Draw scatter plot\n",
    "plt.title(\"True Distribution\")\n"
   ]
  },
  {
   "cell_type": "markdown",
   "metadata": {},
   "source": [
    "Split Train, Test Dataset"
   ]
  },
  {
   "cell_type": "code",
   "execution_count": null,
   "metadata": {},
   "outputs": [],
   "source": [
    "np.random.seed(10)\n",
    "rand_indicies = list(range(0,x_num))\n",
    "random.shuffle(rand_indicies)\n",
    "rand_idicies_train, rand_idicies_test =rand_indicies[:int(x_num*0.8)], rand_indicies[int(x_num*0.8):]\n",
    "x_train = x_space[rand_idicies_train]\n",
    "y_train = get_y_noise(x_train)\n",
    "\n",
    "x_test = x_space[rand_idicies_test]\n",
    "y_test = get_y_noise(x_test)"
   ]
  },
  {
   "cell_type": "code",
   "execution_count": null,
   "metadata": {},
   "outputs": [],
   "source": [
    "plt.scatter(x_train,y_train) # Train data"
   ]
  },
  {
   "cell_type": "code",
   "execution_count": null,
   "metadata": {},
   "outputs": [],
   "source": [
    "plt.scatter(x_test,y_test)\n",
    "plt.title(\"Test Data\")"
   ]
  },
  {
   "cell_type": "markdown",
   "metadata": {},
   "source": [
    "### Polynomial Regression (degree 1) 로 Sine graph 예측"
   ]
  },
  {
   "cell_type": "code",
   "execution_count": null,
   "metadata": {},
   "outputs": [],
   "source": [
    "model = Pipeline([('poly', PolynomialFeatures(degree=1)),\n",
    "                  ('linear', LinearRegression(fit_intercept=False))])\n",
    "model.fit(x_train[:, np.newaxis], y_train)\n",
    "y_predict = model.predict(x_train[:,np.newaxis])"
   ]
  },
  {
   "cell_type": "code",
   "execution_count": null,
   "metadata": {},
   "outputs": [],
   "source": [
    "plt.scatter(x_train,y_predict, label='Predicted', color ='black')\n",
    "plt.plot(x_space,y, label = 'Ground Truth', color='orange')\n",
    "plt.legend()\n",
    "plt.title(\"Ground Truth VS Predicted\")"
   ]
  },
  {
   "cell_type": "code",
   "execution_count": null,
   "metadata": {},
   "outputs": [],
   "source": [
    "# Dictionary for containing the results\n",
    "result_dict = defaultdict(dict)"
   ]
  },
  {
   "cell_type": "markdown",
   "metadata": {},
   "source": [
    "#### Mean Square Error 게산하기\n",
    "* mean_square_error(y1, y2) : y1 와 y2 mean squared error를 계산한다"
   ]
  },
  {
   "cell_type": "code",
   "execution_count": null,
   "metadata": {},
   "outputs": [],
   "source": [
    "y_test_predict = model.predict(x_test[:,np.newaxis])\n",
    "## check Train, Test mse\n",
    "mse_train = mean_squared_error(y_train,y_predict)\n",
    "mse_test = mean_squared_error(y_test,y_test_predict)\n",
    "result_dict[1]['mse_train'] = mse_train\n",
    "result_dict[1]['mse_test'] = mse_test\n",
    "print(\"mse Train : {}, Test : {}\".format(mse_train,mse_test))"
   ]
  },
  {
   "cell_type": "markdown",
   "metadata": {},
   "source": [
    "#### Bias 와 Variance 계산하기"
   ]
  },
  {
   "cell_type": "markdown",
   "metadata": {},
   "source": [
    "1. Train data 에서 train sample 뽑기\n",
    "2. Train sample 를 이용하여 Polynomial regression model 학습\n",
    "3. Sample이 아닌 전체 train data 를 이용하여 모델의 예측값 계산\n",
    "4. 1,3 을 1000번 반복하면서 모델의 예측값 3 의 평균 계산 (exp_f_x)\n",
    "5. Bias and Variance 계산\n",
    "---\n",
    "np.linear.norm(x) : x라는 행렬의 2 norm을 계산해라"
   ]
  },
  {
   "cell_type": "code",
   "execution_count": null,
   "metadata": {},
   "outputs": [],
   "source": [
    "random.seed(10)\n",
    "num_sampling = 1000\n",
    "degree = 1\n",
    "\n",
    "model_list = []\n",
    "exp_f_x = np.zeros(len(x_train))\n",
    "\n",
    "for i in range(num_sampling):\n",
    "    x_train_sample, y_train_sample, y_train_true = get_sample(sample_ratio=0.3,x=x_train,y=y_train)\n",
    "    model = Pipeline([('poly', PolynomialFeatures(degree=degree)),\n",
    "                  ('linear', LinearRegression(fit_intercept=False))])\n",
    "    model.fit(x_train_sample[:, np.newaxis], y_train_sample)\n",
    "    exp_f_x += model.predict(x_train[:, np.newaxis])\n",
    "    model_list.append(model)\n",
    "\n",
    "\n",
    "exp_f_x/=num_sampling\n",
    "bias = (np.linalg.norm(exp_f_x-y_train))\n",
    "\n",
    "var = 0\n",
    "for j in range(num_sampling):\n",
    "    model = model_list.pop(0)\n",
    "    var = var + np.square(model.predict(x_train[:, np.newaxis])-exp_f_x)\n",
    "var = var/num_sampling\n",
    "variance = np.linalg.norm(var)\n",
    "\n",
    "result_dict[1]['bias'] = bias\n",
    "result_dict[1]['var'] = variance\n",
    "print(\"degree : {} bias : {} variance : {}\".format(degree, bias,variance) )"
   ]
  },
  {
   "cell_type": "markdown",
   "metadata": {},
   "source": [
    "### Practice 4 : Make Polynoimal Regression model with degree 5\n",
    "1. Compute the Train , Test MeanSquare Error\n",
    "2. Compute Bias and Variance"
   ]
  },
  {
   "cell_type": "code",
   "execution_count": null,
   "metadata": {},
   "outputs": [],
   "source": [
    "model = Pipeline(??)\n",
    "\n",
    "model.fit(??)\n",
    "\n",
    "y_predict = model.??  # 예측하는 method를 쓰세요\n",
    "\n",
    "plt.scatter(x_train,y_predict, label='Predicted')\n",
    "plt.plot(x_space,y, label = 'Ground Truth', color='orange')\n",
    "plt.legend()\n",
    "plt.title(\"Ground Truth VS Predicted\")"
   ]
  },
  {
   "cell_type": "code",
   "execution_count": null,
   "metadata": {},
   "outputs": [],
   "source": [
    "y_test_predict = model.??\n",
    "## check Train, Test mse\n",
    "mse_train = mean_squared_error(??,y_predict)\n",
    "mse_test = mean_squared_error(??,??)\n",
    "result_dict[5]['mse_train'] = mse_train\n",
    "result_dict[5]['mse_test'] = mse_test\n",
    "print(\"mse Train : {}, Test : {}\".format(mse_train,mse_test))"
   ]
  },
  {
   "cell_type": "markdown",
   "metadata": {},
   "source": [
    "#### Compute Bias and Variance"
   ]
  },
  {
   "cell_type": "code",
   "execution_count": null,
   "metadata": {},
   "outputs": [],
   "source": [
    "random.seed(10)\n",
    "num_sampling = 1000\n",
    "degree = 5\n",
    "\n",
    "model_list = []\n",
    "exp_f_x = np.zeros(len(x_train))\n",
    "\n",
    "for i in range(num_sampling):\n",
    "    x_train_sample, y_train_sample, y_train_true = ?? # Sample 를 뽑아주는 함수 (Sample ratio = 0.3)\n",
    "    model = ??\n",
    "    model.fit(??)\n",
    "    exp_f_x += model.predict(x_train[:, np.newaxis])\n",
    "    model_list.append(model)\n",
    "\n",
    "\n",
    "exp_f_x/=num_sampling\n",
    "bias = np.linalg.norm(??-??)\n",
    "var = 0\n",
    "for j in range(num_sampling):\n",
    "    model = model_list.pop(0)\n",
    "    var = var + ?? # exp_f_X 과 예측값과의 차이의 제곱!\n",
    "var = var/num_sampling\n",
    "variance = ??\n",
    "result_dict[5]['bias'] = bias\n",
    "result_dict[5]['var'] = variance\n",
    "print(\"degree : {} bias : {} variance : {}\".format(degree, bias,variance) )"
   ]
  },
  {
   "cell_type": "markdown",
   "metadata": {},
   "source": [
    "### Degree 에 따른 Bias/Variance 비교"
   ]
  },
  {
   "cell_type": "code",
   "execution_count": null,
   "metadata": {},
   "outputs": [],
   "source": [
    "plt.scatter(result_dict[1]['bias'],result_dict[1]['var'], label='degree 1', color='black')\n",
    "plt.text(result_dict[1]['bias'] + 0.1,result_dict[1]['var'], \"High Bias, Low Variance\")\n",
    "plt.scatter(result_dict[5]['bias'],result_dict[5]['var'], label='degree 5')\n",
    "plt.text(result_dict[5]['bias'] + 0.1 ,result_dict[5]['var'], \"Low Bias, High Variance\")\n",
    "\n",
    "plt.legend()\n",
    "plt.xlim(3,12)\n",
    "plt.ylim(0,0.7)\n",
    "plt.xlabel(\"Bias\")\n",
    "plt.ylabel(\"Variance\")\n",
    "plt.title(\"Bias & Variance of degree 1, 5\")"
   ]
  },
  {
   "cell_type": "markdown",
   "metadata": {},
   "source": [
    "degree 가 1,2,3,5,10,12 로 증가함에 따라 Bias and Variance 가 어떻게 바뀌는지 확인해봅시다"
   ]
  },
  {
   "cell_type": "code",
   "execution_count": null,
   "metadata": {},
   "outputs": [],
   "source": [
    "degree_list = [1,2,3,5,10,12]\n",
    "for d in degree_list:\n",
    "    model_list = []\n",
    "    mse_train = 0\n",
    "    mse_test = 0\n",
    "    exp_f_x = np.zeros(len(x_train))\n",
    "    for i in range(num_sampling):\n",
    "        x_train_sample, y_train_sample, y_train_true = get_sample(sample_ratio=0.40,x=x_train,y=y_train)\n",
    "        model = Pipeline([('poly', PolynomialFeatures(degree=d)),\n",
    "                      ('linear', LinearRegression(fit_intercept=False))])\n",
    "        model.fit(x_train_sample[:, np.newaxis], y_train_sample)\n",
    "        \n",
    "        \n",
    "        # For mse\n",
    "        y_train_sample_predict = model.predict(x_train_sample[:, np.newaxis])\n",
    "        y_test_predict = model.predict(x_test[:,np.newaxis])\n",
    "        mse_train += mean_squared_error(y_train_sample,y_train_sample_predict)\n",
    "        mse_test += mean_squared_error(y_test,y_test_predict)\n",
    "        \n",
    "        exp_f_x += model.predict(x_train[:, np.newaxis])\n",
    "        model_list.append(model)\n",
    "\n",
    "    mse_train /= num_sampling\n",
    "    mse_test /= num_sampling\n",
    "    exp_f_x/=num_sampling\n",
    "\n",
    "    # Bias\n",
    "    bias = (np.linalg.norm(exp_f_x-y_train))\n",
    "    \n",
    "    # Variance\n",
    "    var = 0\n",
    "    for j in range(num_sampling):\n",
    "        model = model_list.pop(0)\n",
    "        var = var + np.square(model.predict(x_train[:, np.newaxis])-exp_f_x)\n",
    "    var = var/num_sampling\n",
    "    variance = np.linalg.norm(var)\n",
    "    print(\"degree : {} bias : {} variance : {}\".format(d, bias,variance) )\n",
    "\n",
    "    result_dict[d] = {'bias':bias,'var':variance,'mse_train':mse_train,'mse_test':mse_test}"
   ]
  },
  {
   "cell_type": "code",
   "execution_count": null,
   "metadata": {},
   "outputs": [],
   "source": [
    "for d in degree_list:\n",
    "    plt.scatter(result_dict[d]['bias'],result_dict[d]['var'],s=60, label='degree {}'.format(d), \n",
    "                 alpha=0.3)\n",
    "    plt.text(result_dict[d]['bias'],result_dict[d]['var'],'degree {}'.format(d))\n",
    "\n",
    "\n",
    "plt.xlabel(\"Bias\")\n",
    "plt.ylabel(\"Variance\")\n",
    "plt.title(\"Bias & Variance \")"
   ]
  },
  {
   "cell_type": "code",
   "execution_count": null,
   "metadata": {},
   "outputs": [],
   "source": [
    "bias_list = []\n",
    "variance_list = []\n",
    "train_mse_list = []\n",
    "test_mse_list = []\n",
    "for d in degree_list:\n",
    "    bias_list.append(result_dict[d]['bias'])\n",
    "    variance_list.append(result_dict[d]['var'])\n",
    "    train_mse_list.append(result_dict[d]['mse_train'])\n",
    "    test_mse_list.append(result_dict[d]['mse_test'])"
   ]
  },
  {
   "cell_type": "code",
   "execution_count": null,
   "metadata": {},
   "outputs": [],
   "source": [
    "plt.plot(degree_list,bias_list, label='Bias')\n",
    "plt.plot(degree_list,variance_list, label='Variance')\n",
    "plt.legend()\n",
    "plt.xlabel(\"Degree\")\n",
    "plt.ylabel(\"Value\")\n",
    "plt.title(\"Bias and Variance Trade off\")"
   ]
  },
  {
   "cell_type": "code",
   "execution_count": null,
   "metadata": {},
   "outputs": [],
   "source": [
    "plt.plot(degree_list,train_mse_list, label= 'mse Train')\n",
    "plt.plot(degree_list,test_mse_list, label='mse Test')\n",
    "plt.legend()\n",
    "plt.xlabel(\"Degree\")\n",
    "plt.ylabel(\"Value\")\n",
    "plt.title(\"Train and Test mse\")"
   ]
  },
  {
   "cell_type": "markdown",
   "metadata": {},
   "source": [
    "### Degree 가 커질수록 항상 좋을까요?\n",
    "그래프를 그려보면 degree가 증가할수록 Train, Test MSE 감소하는 경향을 볼 수 있습니다 <br>\n",
    "과연 Degree가 클수록 항상 좋은걸까요? <br>\n",
    "Degree가 증가하면, Train data를 잘 학습하여셔 Bias는 감소합니다. <br>\n",
    "하지만 Training Data에 노이즈가 강하게 들어가 있으면 어떻게 될까요? <br>\n",
    "노이즈 마저 학습하여 Test MSE가 오히려 더 높아질 수 있습니다 . 아래 실습을 통해 해당 상황을 알아봅시다\n",
    "\n",
    "---\n",
    "먼저 -20. -1 범위에서 추출한 y_noise data에 넣어줍시다"
   ]
  },
  {
   "cell_type": "code",
   "execution_count": null,
   "metadata": {},
   "outputs": [],
   "source": [
    "random.seed(10)\n",
    "x_noise = [random.uniform(4,6) for i in range(10)]\n",
    "y_noise = [random.uniform(-20,-1) for i in range(10)]\n",
    "plt.scatter(x_train,y_train, label='Train data')\n",
    "plt.scatter(x_noise,y_noise, label='Noise data')\n",
    "plt.legend()\n",
    "plt.title(\"Train Data with noise\")"
   ]
  },
  {
   "cell_type": "code",
   "execution_count": null,
   "metadata": {},
   "outputs": [],
   "source": [
    "x_train_noise = np.append(x_train,x_noise)\n",
    "y_train_noise = np.append(y_train,y_noise)"
   ]
  },
  {
   "cell_type": "markdown",
   "metadata": {},
   "source": [
    "#### Practice 5\n",
    "* 위에서 배운 방법들을 이용해서 데이터에 노이즈가 심한 상황에서 Degree가 5, 10 일 때의 다음 값들을 구하세요\n",
    "* Bias , Variance, Train mse , Test mse  \n",
    "* Ground Truth (y_true) 와 Predicted 비교\n"
   ]
  },
  {
   "cell_type": "code",
   "execution_count": null,
   "metadata": {},
   "outputs": [],
   "source": [
    "result_dict = defaultdict(dict)"
   ]
  },
  {
   "cell_type": "markdown",
   "metadata": {},
   "source": [
    "#### Case1 : Degree 5"
   ]
  },
  {
   "cell_type": "code",
   "execution_count": null,
   "metadata": {},
   "outputs": [],
   "source": [
    "model = ??\n",
    "\n",
    "model.??\n",
    "\n",
    "y_predict = ??\n",
    "\n",
    "plt.scatter(x_train_noise,y_predict, label='Predicted')\n",
    "plt.plot(x_space,y, label = 'Ground Truth', color='orange')\n",
    "plt.legend()\n",
    "plt.title(\"Ground Truth VS Predicted\")\n",
    "\n",
    "y_true = ??\n",
    "y_test_predict = ??\n",
    "y_test_true = ??\n",
    "\n",
    "## check Train, Test mse\n",
    "mse_train = ??\n",
    "mse_test = ??\n",
    "result_dict[5]['mse_train'] = mse_train\n",
    "result_dict[5]['mse_test'] = mse_test\n",
    "print(\"mse Train : {} Test : {}\".format(mse_train,mse_test))\n",
    "    \n",
    "# # Variance, Bias\n",
    "# mse = np.mean((y_predict - y_true) ** 2)\n",
    "# var = np.var(y_predict)\n",
    "# bias = abs(mse - var)\n",
    "# print(\"Variance : {} \\nBias : {}\".format(var,bias))"
   ]
  },
  {
   "cell_type": "code",
   "execution_count": null,
   "metadata": {},
   "outputs": [],
   "source": [
    "random.seed(10)\n",
    "num_sampling = 1000\n",
    "degree = 5\n",
    "\n",
    "model_list = []\n",
    "exp_f_x = np.zeros(len(x_train_noise))\n",
    "\n",
    "for i in range(num_sampling):\n",
    "    x_train_sample, y_train_sample, y_train_true = ?? # Sample 를 뽑아주는 함수\n",
    "    model = ??\n",
    "    model.?? # Model을 train 해주는 method\n",
    "    exp_f_x += ??\n",
    "    model_list.append(model)\n",
    "\n",
    "exp_f_x/=num_sampling\n",
    "bias = ??\n",
    "var = 0\n",
    "for j in range(num_sampling):\n",
    "    model = model_list.pop(0)\n",
    "    var = var + ??\n",
    "var = var/num_sampling\n",
    "variance = ??\n",
    "result_dict[5]['bias'] = bias\n",
    "result_dict[5]['var'] = variance\n",
    "print(\"degree : {} bias : {} variance : {}\".format(degree, bias,variance) )"
   ]
  },
  {
   "cell_type": "markdown",
   "metadata": {},
   "source": [
    "#### Case 2 : Degree 10"
   ]
  },
  {
   "cell_type": "code",
   "execution_count": null,
   "metadata": {},
   "outputs": [],
   "source": [
    "model = Pipeline([('poly', PolynomialFeatures(degree=10)),\n",
    "                  ('linear', LinearRegression(fit_intercept=False))])\n",
    "\n",
    "model.fit(x_train_noise[:, np.newaxis], y_train_noise)\n",
    "\n",
    "y_predict = model.predict(x_train_noise[:,np.newaxis])\n",
    "\n",
    "plt.scatter(x_train_noise,y_predict, label='Predicted')\n",
    "plt.plot(x_space,y, label = 'Ground Truth', color='orange')\n",
    "plt.legend()\n",
    "plt.title(\"Ground Truth VS Predicted\")\n",
    "\n",
    "y_true = np.sin(x_train_noise)\n",
    "y_test_predict = model.predict(x_test[:,np.newaxis])\n",
    "y_test_true = np.sin(x_test)\n",
    "\n",
    "## check Train, Test mse\n",
    "mse_train = mean_squared_error(y_true,y_predict)\n",
    "mse_test = mean_squared_error(y_test_true,y_test_predict)\n",
    "result_dict[10]['mse_train'] = mse_train\n",
    "result_dict[10]['mse_test'] = mse_test\n",
    "print(\"mse Train : {} Test : {}\".format(mse_train,mse_test))\n",
    "    \n",
    "# # Variance, Bias\n",
    "# mse = np.mean((y_predict - y_true) ** 2)\n",
    "# var = np.var(y_predict)\n",
    "# bias = (mse - var)\n",
    "# print(\"Variance : {} \\nBias : {}\".format(var,bias))"
   ]
  },
  {
   "cell_type": "markdown",
   "metadata": {},
   "source": [
    "* More degree of model, gives more flexibility in decision boundarys.\n",
    "* More prone to overfit"
   ]
  },
  {
   "cell_type": "code",
   "execution_count": null,
   "metadata": {},
   "outputs": [],
   "source": [
    "random.seed(10)\n",
    "num_sampling = 1000\n",
    "degree = 10\n",
    "\n",
    "model_list = []\n",
    "exp_f_x = np.zeros(len(x_train_noise))\n",
    "\n",
    "for i in range(num_sampling):\n",
    "    x_train_sample, y_train_sample, y_train_true = ?? # Sample 를 뽑아주는 함수\n",
    "    model = ??\n",
    "    model.?? # Model을 train 해주는 method\n",
    "    exp_f_x += ??\n",
    "    model_list.append(model)\n",
    "\n",
    "exp_f_x/=num_sampling\n",
    "bias = ??\n",
    "var = 0\n",
    "for j in range(num_sampling):\n",
    "    model = model_list.pop(0)\n",
    "    var = var + ??\n",
    "var = var/num_sampling\n",
    "variance = ??\n",
    "result_dict[10]['bias'] = bias\n",
    "result_dict[10]['var'] = variance\n",
    "print(\"degree : {} bias : {} variance : {}\".format(degree, bias,variance) )"
   ]
  },
  {
   "cell_type": "markdown",
   "metadata": {},
   "source": [
    "#### Bias and Variance Trade off Graph"
   ]
  },
  {
   "cell_type": "code",
   "execution_count": null,
   "metadata": {},
   "outputs": [],
   "source": [
    "bias_list = []\n",
    "variance_list = []\n",
    "train_mse_list = []\n",
    "test_mse_list = []\n",
    "degree_list = [5,10]\n",
    "for d in degree_list:\n",
    "    bias_list.append(result_dict[d]['bias'])\n",
    "    variance_list.append(result_dict[d]['var'])\n",
    "    train_mse_list.append(result_dict[d]['mse_train'])\n",
    "    test_mse_list.append(result_dict[d]['mse_test'])"
   ]
  },
  {
   "cell_type": "code",
   "execution_count": null,
   "metadata": {},
   "outputs": [],
   "source": [
    "plt.plot(degree_list,bias_list, label='Bias')\n",
    "plt.plot(degree_list,variance_list, label='Variance')\n",
    "plt.legend()\n",
    "plt.xlabel(\"Degree\")\n",
    "plt.ylabel(\"Value\")\n",
    "plt.title(\"Bias and Variance Trade off\")"
   ]
  },
  {
   "cell_type": "markdown",
   "metadata": {},
   "source": [
    "#### MSE Graph"
   ]
  },
  {
   "cell_type": "code",
   "execution_count": null,
   "metadata": {},
   "outputs": [],
   "source": [
    "plt.plot(degree_list,train_mse_list, label= 'mse Train')\n",
    "plt.plot(degree_list,test_mse_list, label='mse Test')\n",
    "plt.legend()\n",
    "plt.xlabel(\"Degree\")\n",
    "plt.ylabel(\"Value\")\n",
    "plt.title(\"Train and Test mse\")"
   ]
  },
  {
   "cell_type": "code",
   "execution_count": null,
   "metadata": {},
   "outputs": [],
   "source": []
  }
 ],
 "metadata": {
  "kernelspec": {
   "display_name": "samsung_bias",
   "language": "python",
   "name": "samsung_bias"
  },
  "language_info": {
   "codemirror_mode": {
    "name": "ipython",
    "version": 3
   },
   "file_extension": ".py",
   "mimetype": "text/x-python",
   "name": "python",
   "nbconvert_exporter": "python",
   "pygments_lexer": "ipython3",
   "version": "3.6.10"
  }
 },
 "nbformat": 4,
 "nbformat_minor": 4
}
